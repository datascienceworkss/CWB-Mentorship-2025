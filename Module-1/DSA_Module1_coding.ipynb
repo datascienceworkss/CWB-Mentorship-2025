{
  "nbformat": 4,
  "nbformat_minor": 0,
  "metadata": {
    "colab": {
      "provenance": []
    },
    "kernelspec": {
      "name": "python3",
      "display_name": "Python 3"
    },
    "language_info": {
      "name": "python"
    }
  },
  "cells": [
    {
      "cell_type": "markdown",
      "source": [
        "### Concepts - Module1"
      ],
      "metadata": {
        "id": "4wp2jN5AKwb7"
      }
    },
    {
      "cell_type": "markdown",
      "source": [
        "### **Python Lists**"
      ],
      "metadata": {
        "id": "SqWqk88Z3xXL"
      }
    },
    {
      "cell_type": "code",
      "source": [
        "lista=[1,2,3]\n",
        "lista.append(4)\n",
        "lista.append(\"hello\")\n",
        "print(lista)"
      ],
      "metadata": {
        "id": "G2ZdAgCn3tKS",
        "colab": {
          "base_uri": "https://localhost:8080/"
        },
        "outputId": "e3e70431-49d8-49d8-cdd8-f04acd43a584"
      },
      "execution_count": 9,
      "outputs": [
        {
          "output_type": "stream",
          "name": "stdout",
          "text": [
            "[1, 2, 3, 4, 'hello']\n"
          ]
        }
      ]
    },
    {
      "cell_type": "code",
      "source": [
        "lista[-1] ### O(1) time"
      ],
      "metadata": {
        "colab": {
          "base_uri": "https://localhost:8080/",
          "height": 36
        },
        "id": "Nirq_LWlPFIt",
        "outputId": "001c5d5e-bad5-4629-fe5f-8ba7bf141aae"
      },
      "execution_count": 10,
      "outputs": [
        {
          "output_type": "execute_result",
          "data": {
            "text/plain": [
              "'hello'"
            ],
            "application/vnd.google.colaboratory.intrinsic+json": {
              "type": "string"
            }
          },
          "metadata": {},
          "execution_count": 10
        }
      ]
    },
    {
      "cell_type": "code",
      "source": [
        "lista"
      ],
      "metadata": {
        "colab": {
          "base_uri": "https://localhost:8080/"
        },
        "id": "F2m7soNBOcy5",
        "outputId": "bb4cd0af-06bd-4200-c7ee-de54c2e797ce"
      },
      "execution_count": 4,
      "outputs": [
        {
          "output_type": "execute_result",
          "data": {
            "text/plain": [
              "[3, 4, 'hello']"
            ]
          },
          "metadata": {},
          "execution_count": 4
        }
      ]
    },
    {
      "cell_type": "markdown",
      "source": [
        "list.pop() is a built-in method that removes and returns an item from a list at a given index. If no index is specified, it removes and returns the last item in the list."
      ],
      "metadata": {
        "id": "713egYTOCqUT"
      }
    },
    {
      "cell_type": "code",
      "source": [
        " lista.pop(0)"
      ],
      "metadata": {
        "colab": {
          "base_uri": "https://localhost:8080/"
        },
        "id": "ILUetnIvCPL0",
        "outputId": "b01e66d6-118a-4a56-ce1b-ef026e009035"
      },
      "execution_count": 3,
      "outputs": [
        {
          "output_type": "execute_result",
          "data": {
            "text/plain": [
              "2"
            ]
          },
          "metadata": {},
          "execution_count": 3
        }
      ]
    },
    {
      "cell_type": "code",
      "source": [
        "lista.pop(1)"
      ],
      "metadata": {
        "colab": {
          "base_uri": "https://localhost:8080/"
        },
        "id": "PBvI5V5wOkhF",
        "outputId": "f01defad-1a94-45d1-e0ee-eb90f2fa0d5e"
      },
      "execution_count": 5,
      "outputs": [
        {
          "output_type": "execute_result",
          "data": {
            "text/plain": [
              "4"
            ]
          },
          "metadata": {},
          "execution_count": 5
        }
      ]
    },
    {
      "cell_type": "code",
      "source": [
        "lista.pop()"
      ],
      "metadata": {
        "colab": {
          "base_uri": "https://localhost:8080/",
          "height": 36
        },
        "id": "siu3VXRzCDCr",
        "outputId": "21e16fbf-f068-477e-ca3f-70d127a0c139"
      },
      "execution_count": 6,
      "outputs": [
        {
          "output_type": "execute_result",
          "data": {
            "text/plain": [
              "'hello'"
            ],
            "application/vnd.google.colaboratory.intrinsic+json": {
              "type": "string"
            }
          },
          "metadata": {},
          "execution_count": 6
        }
      ]
    },
    {
      "cell_type": "code",
      "source": [
        "lista.pop()"
      ],
      "metadata": {
        "colab": {
          "base_uri": "https://localhost:8080/"
        },
        "id": "LGgEbHhKOxEv",
        "outputId": "c52198c8-a287-4e4e-f5a1-aa7e86bfd0fc"
      },
      "execution_count": 7,
      "outputs": [
        {
          "output_type": "execute_result",
          "data": {
            "text/plain": [
              "3"
            ]
          },
          "metadata": {},
          "execution_count": 7
        }
      ]
    },
    {
      "cell_type": "code",
      "source": [
        "lista.pop()"
      ],
      "metadata": {
        "colab": {
          "base_uri": "https://localhost:8080/",
          "height": 145
        },
        "id": "Zg9AOTwEOzu1",
        "outputId": "0b49b8ea-a477-4bb6-e971-7824b9a3c274"
      },
      "execution_count": 8,
      "outputs": [
        {
          "output_type": "error",
          "ename": "IndexError",
          "evalue": "pop from empty list",
          "traceback": [
            "\u001b[0;31m---------------------------------------------------------------------------\u001b[0m",
            "\u001b[0;31mIndexError\u001b[0m                                Traceback (most recent call last)",
            "\u001b[0;32m<ipython-input-8-f2172c300703>\u001b[0m in \u001b[0;36m<cell line: 0>\u001b[0;34m()\u001b[0m\n\u001b[0;32m----> 1\u001b[0;31m \u001b[0mlista\u001b[0m\u001b[0;34m.\u001b[0m\u001b[0mpop\u001b[0m\u001b[0;34m(\u001b[0m\u001b[0;34m)\u001b[0m\u001b[0;34m\u001b[0m\u001b[0;34m\u001b[0m\u001b[0m\n\u001b[0m",
            "\u001b[0;31mIndexError\u001b[0m: pop from empty list"
          ]
        }
      ]
    },
    {
      "cell_type": "markdown",
      "source": [
        "pop(0) requires shifting all elements left (O(n)), while pop() removes the last element without shifting (O(1))."
      ],
      "metadata": {
        "id": "m7TUFqz0Cad7"
      }
    },
    {
      "cell_type": "markdown",
      "source": [
        "### **Python Arrays**"
      ],
      "metadata": {
        "id": "Q3V273QLPbCc"
      }
    },
    {
      "cell_type": "code",
      "source": [
        "import array\n",
        "my_array = array.array('i', [10, 20, 30])  # 'i' = signed integer, 'f' = float, 'd' = byte\n",
        "my_array.append(40)  # Still dynamic, but only allows integers\n",
        "print(my_array[1])   # O(1) access → 20"
      ],
      "metadata": {
        "colab": {
          "base_uri": "https://localhost:8080/"
        },
        "id": "BBOgmszsKRRe",
        "outputId": "6af32001-c912-41f2-ba26-7f2b22e2272e"
      },
      "execution_count": 11,
      "outputs": [
        {
          "output_type": "stream",
          "name": "stdout",
          "text": [
            "20\n"
          ]
        }
      ]
    },
    {
      "cell_type": "markdown",
      "source": [
        "Use array: For large numeric datasets where memory/performance matters.\n",
        "\n",
        "Use list: For general-purpose sequences (mixed types, flexibility)."
      ],
      "metadata": {
        "id": "De4D8E9KBhOF"
      }
    },
    {
      "cell_type": "markdown",
      "source": [
        "### **Practical use case**"
      ],
      "metadata": {
        "id": "DiIUwy6DFNpX"
      }
    },
    {
      "cell_type": "markdown",
      "source": [
        "**Stack Operations (LIFO):**"
      ],
      "metadata": {
        "id": "fwfTlcL3FUyg"
      }
    },
    {
      "cell_type": "code",
      "source": [
        "stack = []\n",
        "stack.append(10)  # Push 10\n",
        "stack.append(20)  # Push 20\n",
        "top = stack.pop()  # Pop → 20"
      ],
      "metadata": {
        "id": "JuHDzWAQFQg5"
      },
      "execution_count": 12,
      "outputs": []
    },
    {
      "cell_type": "code",
      "source": [
        "top"
      ],
      "metadata": {
        "colab": {
          "base_uri": "https://localhost:8080/"
        },
        "id": "b1W5XW0xFrWS",
        "outputId": "5989133a-831b-4629-80e4-bd3e5f29055f"
      },
      "execution_count": 13,
      "outputs": [
        {
          "output_type": "execute_result",
          "data": {
            "text/plain": [
              "20"
            ]
          },
          "metadata": {},
          "execution_count": 13
        }
      ]
    },
    {
      "cell_type": "markdown",
      "source": [
        "### **Coding Question - 1**"
      ],
      "metadata": {
        "id": "JuN2KELXKUz4"
      }
    },
    {
      "cell_type": "markdown",
      "source": [
        "#### **Remove duplicates from the sorted array in-place and return the new length.**"
      ],
      "metadata": {
        "id": "f1J2vdbTKhCs"
      }
    },
    {
      "cell_type": "markdown",
      "source": [
        "Given an integer array nums sorted in non-decreasing order, remove the duplicates in-place such that each unique element appears only once. The relative order of the elements should be kept the same. Then return the number of unique elements in nums.\n",
        "\n",
        "Consider the number of unique elements of nums to be k, to get accepted, you need to do the following things:\n",
        "\n",
        "Change the array nums such that the first k elements of nums contain the unique elements in the order they were present in nums initially. The remaining elements of nums are not important as well as the size of nums.\n",
        "Return k."
      ],
      "metadata": {
        "id": "1QW38tbOKs5w"
      }
    },
    {
      "cell_type": "markdown",
      "source": [
        "**Example 1**\n",
        "\n",
        "#### **Input:** nums = [1,1,2]\n",
        "#### **Output:** 2, nums = [1,2,_]\n",
        "\n",
        "Explanation: Your function should return k = 2, with the first two elements of nums being 1 and 2 respectively.\n",
        "It does not matter what you leave beyond the returned k (hence they are underscores)."
      ],
      "metadata": {
        "id": "8dT2uEvwLAvl"
      }
    },
    {
      "cell_type": "markdown",
      "source": [
        "### **Key Observations**\n",
        "Sorted Array: Duplicates are adjacent (e.g., [1, 1, 2], not [1, 2, 1]).\n",
        "\n",
        "In-Place Requirement: Must modify the array without extra space (no set() or new array).\n",
        "\n",
        "Return Length: Need to count unique elements efficiently.\n",
        "\n",
        "3. Intuition: Two Pointers\n",
        "Use two pointers to traverse the array:\n",
        "\n",
        "Slow pointer (k): Tracks the position of the last unique element.\n",
        "\n",
        "Fast pointer (i): Scans the array to find new unique elements."
      ],
      "metadata": {
        "id": "Oq2p7ECAOyQv"
      }
    },
    {
      "cell_type": "markdown",
      "source": [
        "## **Step-by-Step Execution**\n",
        "Initial State:\n",
        "\n",
        "nums = [1, 1, 2, 2, 3]\n",
        "\n",
        "k = 1 (first element is always unique)\n",
        "\n",
        "Loop Iterations:\n",
        "\n",
        "i = 1: nums[1] (1) == nums[0] (1) → skip (duplicate)\n",
        "\n",
        "i = 2: nums[2] (2) != nums[1] (1) → nums[1] = 2, k = 2\n",
        "\n",
        "Array becomes [1, 2, 2, 2, 3]\n",
        "\n",
        "i = 3: nums[3] (2) == nums[2] (2) → skip (duplicate)\n",
        "\n",
        "i = 4: nums[4] (3) != nums[3] (2) → nums[2] = 3, k = 3\n",
        "\n",
        "Array becomes [1, 2, 3, 2, 3]\n",
        "\n",
        "Result:\n",
        "\n",
        "The first k = 3 elements are unique: [1, 2, 3]\n",
        "\n",
        "Return k = 3"
      ],
      "metadata": {
        "id": "yMqLbhuGNxhb"
      }
    },
    {
      "cell_type": "code",
      "source": [
        "def removeDuplicates(nums):\n",
        "    if not nums:\n",
        "        return 0  # Edge case: empty array\n",
        "\n",
        "    k = 1  # Pointer for the next unique element position\n",
        "\n",
        "    for i in range(1, len(nums)):\n",
        "        if nums[i] != nums[i-1]:  # New unique element found\n",
        "            nums[k] = nums[i]     # Store it at position `k`\n",
        "            k += 1                # Move `k` forward\n",
        "\n",
        "    return k  # New length without duplicates"
      ],
      "metadata": {
        "id": "xS5BbEktKY3u"
      },
      "execution_count": 14,
      "outputs": []
    },
    {
      "cell_type": "code",
      "source": [
        "nums=[1,1,2,2,3]\n",
        "removeDuplicates(nums)"
      ],
      "metadata": {
        "colab": {
          "base_uri": "https://localhost:8080/"
        },
        "id": "gt2paRjdL36A",
        "outputId": "6e706813-f9ae-4dd6-adbb-63455857a84c"
      },
      "execution_count": 15,
      "outputs": [
        {
          "output_type": "execute_result",
          "data": {
            "text/plain": [
              "3"
            ]
          },
          "metadata": {},
          "execution_count": 15
        }
      ]
    },
    {
      "cell_type": "markdown",
      "source": [
        "#### **Time and space complexity**"
      ],
      "metadata": {
        "id": "7wMmwH5lO89k"
      }
    },
    {
      "cell_type": "markdown",
      "source": [
        "Time Complexity (O(n))\n",
        "\n",
        "Each element is checked exactly once via the i pointer.\n",
        "\n",
        "The k pointer only moves forward when a new unique element is found.\n",
        "\n",
        "Space Complexity (O(1))\n",
        "\n",
        "The algorithm modifies the input array in-place without using additional memory (e.g., no hash sets or temporary arrays)."
      ],
      "metadata": {
        "id": "K71jOj4NMddT"
      }
    },
    {
      "cell_type": "markdown",
      "source": [
        "**Problem 2:** Product of Array Except Self (LeetCode 238)\n",
        "Given an array nums, return an array answer where answer[i] is the product of all elements in nums except nums[i].\n",
        "\n",
        "Constraints:\n",
        "\n",
        "Must run in O(n) time.\n",
        "\n",
        "Cannot use division (to avoid division-by-zero errors).\n",
        "\n",
        "Space complexity must be O(1) (excluding the output array).\n",
        "\n"
      ],
      "metadata": {
        "id": "9U__D4EJNnr4"
      }
    },
    {
      "cell_type": "markdown",
      "source": [
        "**Key Idea**"
      ],
      "metadata": {
        "id": "OY29oWw3O0MI"
      }
    },
    {
      "cell_type": "markdown",
      "source": [
        "\n",
        "For each element nums[i], the product is:\n",
        "\n",
        "\n",
        "\n",
        "Product of all elements to its left × Product of all elements to its right."
      ],
      "metadata": {
        "id": "UnVe_iNvNzCI"
      }
    },
    {
      "cell_type": "markdown",
      "source": [
        "**Example Walkthrough**"
      ],
      "metadata": {
        "id": "WE7KhVGiO6jz"
      }
    },
    {
      "cell_type": "markdown",
      "source": [
        "Input: nums = [1, 2, 3, 4]\n",
        "\n",
        "1. Prefix Pass (Left → Right)\n",
        "Initialize answer = [1, 1, 1, 1].\n",
        "\n",
        "For each i, answer[i] = answer[i-1] * nums[i-1]:\n",
        "\n",
        "i=1: answer[1] = 1 * 1 = 1 → [1, 1, 1, 1]\n",
        "\n",
        "i=2: answer[2] = 1 * 2 = 2 → [1, 1, 2, 1]\n",
        "\n",
        "i=3: answer[3] = 2 * 3 = 6 → [1, 1, 2, 6]\n",
        "\n",
        "2. Suffix Pass (Right → Left)\n",
        "Initialize suffix = 1.\n",
        "\n",
        "For each i from n-1 to 0:\n",
        "\n",
        "Multiply answer[i] with suffix.\n",
        "\n",
        "Update suffix *= nums[i]:\n",
        "\n",
        "i=3: answer[3] *= 1 → 6, suffix = 1 * 4 = 4\n",
        "\n",
        "i=2: answer[2] *= 4 → 8, suffix = 4 * 3 = 12\n",
        "\n",
        "i=1: answer[1] *= 12 → 12, suffix = 12 * 2 = 24\n",
        "\n",
        "i=0: answer[0] *= 24 → 24, suffix = 24 * 1 = 24\n",
        "\n",
        "Final answer: [24, 12, 8, 6]\n",
        "\n"
      ],
      "metadata": {
        "id": "8n7CBghNOCLn"
      }
    },
    {
      "cell_type": "code",
      "source": [
        "def productExceptSelf(nums):\n",
        "    n = len(nums)\n",
        "    answer = [1] * n\n",
        "\n",
        "    # Prefix pass (left to right)\n",
        "    for i in range(1, n):\n",
        "        answer[i] = answer[i-1] * nums[i-1]\n",
        "\n",
        "    # Suffix pass (right to left)\n",
        "    suffix = 1\n",
        "    for i in range(n-1, -1, -1):\n",
        "        answer[i] *= suffix\n",
        "        suffix *= nums[i]\n",
        "\n",
        "    return answer"
      ],
      "metadata": {
        "id": "EawP1qEJN-ai"
      },
      "execution_count": 16,
      "outputs": []
    },
    {
      "cell_type": "code",
      "source": [
        "nums=[1,2,3,4]\n",
        "productExceptSelf(nums)"
      ],
      "metadata": {
        "colab": {
          "base_uri": "https://localhost:8080/"
        },
        "id": "GmdNPM1POEfp",
        "outputId": "144d3877-fb3b-4063-852d-3ea42c61da1a"
      },
      "execution_count": 17,
      "outputs": [
        {
          "output_type": "execute_result",
          "data": {
            "text/plain": [
              "[24, 12, 8, 6]"
            ]
          },
          "metadata": {},
          "execution_count": 17
        }
      ]
    },
    {
      "cell_type": "markdown",
      "source": [
        "Efficiency: O(n) time with O(1) extra space."
      ],
      "metadata": {
        "id": "PTYdQxLnOxeW"
      }
    },
    {
      "cell_type": "code",
      "source": [],
      "metadata": {
        "id": "lmfz68wnOLKC"
      },
      "execution_count": null,
      "outputs": []
    }
  ]
}