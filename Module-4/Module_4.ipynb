{
  "nbformat": 4,
  "nbformat_minor": 0,
  "metadata": {
    "colab": {
      "provenance": []
    },
    "kernelspec": {
      "name": "python3",
      "display_name": "Python 3"
    },
    "language_info": {
      "name": "python"
    }
  },
  "cells": [
    {
      "cell_type": "markdown",
      "source": [
        "# Graph Traversals"
      ],
      "metadata": {
        "id": "7zsaGCbau-aR"
      }
    },
    {
      "cell_type": "markdown",
      "source": [
        "## Basics of Queue"
      ],
      "metadata": {
        "id": "0dQb_DSBwKu_"
      }
    },
    {
      "cell_type": "markdown",
      "source": [
        "A queue is a linear data structure that follows the First-In-First-Out (FIFO) principle, meaning the first element added is the first one to be removed."
      ],
      "metadata": {
        "id": "Da7iFoWywy2r"
      }
    },
    {
      "cell_type": "code",
      "source": [
        "from collections import deque\n",
        "\n",
        "# Initialize a queue\n",
        "queue = deque()\n",
        "\n",
        "# Enqueue (Add elements)\n",
        "queue.append(10)  # [10]\n",
        "queue.append(20)  # [10, 20]\n",
        "queue.append(30)  # [10, 20, 30]\n",
        "\n",
        "# Dequeue (Remove elements)\n",
        "front_element = queue.popleft()  # Removes 10 → [20, 30]\n",
        "print(front_element)  # Output: 10\n",
        "\n",
        "# Peek the front element\n",
        "print(queue[0])  # Output: 20 (front element)\n",
        "\n",
        "# Check if empty\n",
        "print(len(queue) == 0)  # Output: False"
      ],
      "metadata": {
        "colab": {
          "base_uri": "https://localhost:8080/"
        },
        "id": "EFw1TVvpwNl0",
        "outputId": "3e1f443a-af34-4bd2-e6cf-0026e43560a6"
      },
      "execution_count": 1,
      "outputs": [
        {
          "output_type": "stream",
          "name": "stdout",
          "text": [
            "10\n",
            "20\n",
            "False\n"
          ]
        }
      ]
    },
    {
      "cell_type": "markdown",
      "source": [
        "## Implement BFT using Queue"
      ],
      "metadata": {
        "id": "Yh6D2p9KwahC"
      }
    },
    {
      "cell_type": "code",
      "source": [
        "from collections import deque\n",
        "\n",
        "def bfs(graph, start_node):\n",
        "    visited = set()\n",
        "    queue = deque([start_node])\n",
        "    visited.add(start_node)\n",
        "\n",
        "    while queue:\n",
        "        current_node = queue.popleft()\n",
        "        print(current_node, end=\" \")  # Process the node\n",
        "\n",
        "        for neighbor in graph[current_node]:\n",
        "            if neighbor not in visited:\n",
        "                visited.add(neighbor)\n",
        "                queue.append(neighbor)\n",
        "\n",
        "# Example Graph\n",
        "graph = {\n",
        "    'A': ['B', 'C'],\n",
        "    'B': ['A', 'D'],\n",
        "    'C': ['A', 'E'],\n",
        "    'D': ['B'],\n",
        "    'E': ['C']\n",
        "}\n",
        "\n",
        "print(\"BFS Traversal:\")\n",
        "bfs(graph, 'A')  # Output: A B C D E"
      ],
      "metadata": {
        "colab": {
          "base_uri": "https://localhost:8080/"
        },
        "id": "96OYsknuwfRX",
        "outputId": "a489349c-734d-4651-eef5-510cbd815b11"
      },
      "execution_count": 2,
      "outputs": [
        {
          "output_type": "stream",
          "name": "stdout",
          "text": [
            "BFS Traversal:\n",
            "A B C D E "
          ]
        }
      ]
    },
    {
      "cell_type": "markdown",
      "source": [
        "## Implement DFT using Stack"
      ],
      "metadata": {
        "id": "Yov6ui6rwjd-"
      }
    },
    {
      "cell_type": "code",
      "source": [
        "def dfs_recursive(graph, node, visited=None):\n",
        "    if visited is None:\n",
        "        visited = set()\n",
        "    visited.add(node)\n",
        "    print(node, end=\" \")  # Process the node\n",
        "\n",
        "    for neighbor in graph[node]:\n",
        "        if neighbor not in visited:\n",
        "            dfs_recursive(graph, neighbor, visited)\n",
        "\n",
        "# Example Usage\n",
        "print(\"\\nDFS (Recursive):\")\n",
        "dfs_recursive(graph, 'A')  # Output: A B D C E"
      ],
      "metadata": {
        "colab": {
          "base_uri": "https://localhost:8080/"
        },
        "id": "DO3saqgPwnWh",
        "outputId": "b8d3c71a-c848-4aaa-ded8-aae71f0e2f82"
      },
      "execution_count": 3,
      "outputs": [
        {
          "output_type": "stream",
          "name": "stdout",
          "text": [
            "\n",
            "DFS (Recursive):\n",
            "A B D C E "
          ]
        }
      ]
    },
    {
      "cell_type": "markdown",
      "source": [
        "## Coding Questions on Graph Traversals"
      ],
      "metadata": {
        "id": "s9PwvFTkwo7q"
      }
    },
    {
      "cell_type": "markdown",
      "source": [
        "**Finding Connected Components in a Graph using BFS**"
      ],
      "metadata": {
        "id": "8kQfq6nIu54e"
      }
    },
    {
      "cell_type": "code",
      "source": [
        "from collections import deque\n",
        "\n",
        "def find_connected_components(graph):\n",
        "    \"\"\"\n",
        "    Finds all connected components in an undirected graph using BFS.\n",
        "\n",
        "    Args:\n",
        "        graph (dict): Adjacency list representation of the graph\n",
        "\n",
        "    Returns:\n",
        "        list: A list of connected components, where each component is a list of nodes\n",
        "    \"\"\"\n",
        "    visited = set()\n",
        "    components = []\n",
        "\n",
        "    for node in graph:\n",
        "        if node not in visited:\n",
        "            # Start BFS for a new component\n",
        "            component = []\n",
        "            queue = deque([node])\n",
        "            visited.add(node)\n",
        "\n",
        "            while queue:\n",
        "                current = queue.popleft()\n",
        "                component.append(current)\n",
        "\n",
        "                for neighbor in graph[current]:\n",
        "                    if neighbor not in visited:\n",
        "                        visited.add(neighbor)\n",
        "                        queue.append(neighbor)\n",
        "\n",
        "            components.append(component)\n",
        "\n",
        "    return components\n",
        "\n",
        "\n",
        "# Example usage\n",
        "if __name__ == \"__main__\":\n",
        "    # Undirected graph represented as adjacency list\n",
        "    graph = {\n",
        "        'A': ['B', 'C'],\n",
        "        'B': ['A', 'D'],\n",
        "        'C': ['A', 'D'],\n",
        "        'D': ['B', 'C'],\n",
        "        'E': ['F'],\n",
        "        'F': ['E'],\n",
        "        'G': []\n",
        "    }\n",
        "\n",
        "    components = find_connected_components(graph)\n",
        "\n",
        "    print(\"Connected Components:\")\n",
        "    for i, component in enumerate(components, 1):\n",
        "        print(f\"Component {i}: {component}\")"
      ],
      "metadata": {
        "colab": {
          "base_uri": "https://localhost:8080/"
        },
        "id": "GRbmSmslu9LY",
        "outputId": "534bc90d-1194-4398-ec5d-c82daa281216"
      },
      "execution_count": 4,
      "outputs": [
        {
          "output_type": "stream",
          "name": "stdout",
          "text": [
            "Connected Components:\n",
            "Component 1: ['A', 'B', 'C', 'D']\n",
            "Component 2: ['E', 'F']\n",
            "Component 3: ['G']\n"
          ]
        }
      ]
    },
    {
      "cell_type": "markdown",
      "source": [
        "# Check if a Graph is Connected Using DFS in Python"
      ],
      "metadata": {
        "id": "9pGgRiujvY3l"
      }
    },
    {
      "cell_type": "markdown",
      "source": [
        "\n",
        "A graph is connected if there is a path between every pair of vertices. We can verify this using Depth-First Search (DFS) by:\n",
        "\n",
        "1. Starting DFS from any vertex.\n",
        "2. Checking if all vertices are visited after the traversal."
      ],
      "metadata": {
        "id": "TRBlg-tZvWe9"
      }
    },
    {
      "cell_type": "code",
      "source": [
        "def is_connected(graph):\n",
        "    \"\"\"\n",
        "    Checks if an undirected graph is connected using DFS.\n",
        "\n",
        "    Args:\n",
        "        graph (dict): Adjacency list representation of the graph\n",
        "\n",
        "    Returns:\n",
        "        bool: True if the graph is connected, False otherwise\n",
        "    \"\"\"\n",
        "    if not graph:\n",
        "        return True  # Empty graph is trivially connected\n",
        "\n",
        "    visited = set()\n",
        "    start_node = next(iter(graph))  # Pick any node to start\n",
        "\n",
        "    def dfs(node):\n",
        "        visited.add(node)\n",
        "        for neighbor in graph[node]:\n",
        "            if neighbor not in visited:\n",
        "                dfs(neighbor)\n",
        "\n",
        "    dfs(start_node)\n",
        "\n",
        "    # Check if all nodes were visited\n",
        "    return len(visited) == len(graph)\n",
        "\n",
        "\n",
        "# Example Usage\n",
        "if __name__ == \"__main__\":\n",
        "    # Connected graph\n",
        "    connected_graph = {\n",
        "        'A': ['B', 'C'],\n",
        "        'B': ['A', 'D'],\n",
        "        'C': ['A', 'D'],\n",
        "        'D': ['B', 'C']\n",
        "    }\n",
        "\n",
        "    # Disconnected graph\n",
        "    disconnected_graph = {\n",
        "        'A': ['B'],\n",
        "        'B': ['A'],\n",
        "        'C': ['D'],\n",
        "        'D': ['C']\n",
        "    }\n",
        "\n",
        "    print(\"Connected Graph:\", is_connected(connected_graph))  # True\n",
        "    print(\"Disconnected Graph:\", is_connected(disconnected_graph))  # False"
      ],
      "metadata": {
        "colab": {
          "base_uri": "https://localhost:8080/"
        },
        "id": "6beXboaGvEzS",
        "outputId": "880c555f-bbe2-4074-bf52-3061a6117479"
      },
      "execution_count": 5,
      "outputs": [
        {
          "output_type": "stream",
          "name": "stdout",
          "text": [
            "Connected Graph: True\n",
            "Disconnected Graph: False\n"
          ]
        }
      ]
    },
    {
      "cell_type": "markdown",
      "source": [
        "## Congratulations you completed Module 4 !!"
      ],
      "metadata": {
        "id": "0EsrYAN4w290"
      }
    },
    {
      "cell_type": "code",
      "source": [],
      "metadata": {
        "id": "RakQuO37vg4A"
      },
      "execution_count": null,
      "outputs": []
    }
  ]
}