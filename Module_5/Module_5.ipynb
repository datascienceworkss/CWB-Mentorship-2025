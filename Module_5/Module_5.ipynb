{
  "nbformat": 4,
  "nbformat_minor": 0,
  "metadata": {
    "colab": {
      "provenance": []
    },
    "kernelspec": {
      "name": "python3",
      "display_name": "Python 3"
    },
    "language_info": {
      "name": "python"
    }
  },
  "cells": [
    {
      "cell_type": "markdown",
      "source": [
        "## Implement stack using array"
      ],
      "metadata": {
        "id": "AOoBP87ow9F8"
      }
    },
    {
      "cell_type": "code",
      "source": [
        "class Stack:\n",
        "    def __init__(self, capacity):\n",
        "        self.capacity = capacity  # Max stack size\n",
        "        self.stack = []          # Array to hold elements\n",
        "        self.top = -1            # Initialize top pointer\n",
        "\n",
        "    def push(self, item):\n",
        "        \"\"\"Add an item to the top of the stack\"\"\"\n",
        "        if self.top == self.capacity - 1:\n",
        "            raise OverflowError(\"Stack is full\")\n",
        "        self.top += 1\n",
        "        self.stack.append(item)  # O(1) amortized time\n",
        "\n",
        "    def pop(self):\n",
        "        \"\"\"Remove and return the top item from the stack\"\"\"\n",
        "        if self.top == -1:\n",
        "            raise IndexError(\"Stack is empty\")\n",
        "        item = self.stack[self.top]\n",
        "        self.top -= 1\n",
        "        return item  # O(1) time"
      ],
      "metadata": {
        "id": "6drQeTQlw_t1"
      },
      "execution_count": null,
      "outputs": []
    },
    {
      "cell_type": "code",
      "source": [
        "s = Stack(3)\n",
        "s.push(10)  # Stack: [10]\n",
        "s.push(20)  # Stack: [10, 20]\n",
        "print(s.pop())  # Output: 20\n",
        "print(s.pop())  # Output: 10"
      ],
      "metadata": {
        "colab": {
          "base_uri": "https://localhost:8080/"
        },
        "id": "Dexf7MJMxNxz",
        "outputId": "4dd1cc64-9a53-44ce-a22b-619a7812871c"
      },
      "execution_count": null,
      "outputs": [
        {
          "output_type": "stream",
          "name": "stdout",
          "text": [
            "20\n",
            "10\n"
          ]
        }
      ]
    },
    {
      "cell_type": "markdown",
      "source": [
        "## Implement Queue using array"
      ],
      "metadata": {
        "id": "9OByGJbnxUV9"
      }
    },
    {
      "cell_type": "code",
      "source": [
        "class Queue:\n",
        "    def __init__(self, capacity):\n",
        "        self.capacity = capacity\n",
        "        self.queue = [None] * capacity  # Fixed-size array\n",
        "        self.front = 0  # Points to the front element\n",
        "        self.rear = -1  # Points to the last element\n",
        "        self.size = 0   # Current number of elements\n",
        "\n",
        "    def enqueue(self, item):\n",
        "        \"\"\"Add an item to the end of the queue\"\"\"\n",
        "        if self.size == self.capacity:\n",
        "            raise OverflowError(\"Queue is full\")\n",
        "        self.rear = (self.rear + 1) % self.capacity  # Circular array\n",
        "        self.queue[self.rear] = item\n",
        "        self.size += 1\n",
        "\n",
        "    def dequeue(self):\n",
        "        \"\"\"Remove and return the front item from the queue\"\"\"\n",
        "        if self.size == 0:\n",
        "            raise IndexError(\"Queue is empty\")\n",
        "        item = self.queue[self.front]\n",
        "        self.front = (self.front + 1) % self.capacity  # Circular array\n",
        "        self.size -= 1\n",
        "        return item"
      ],
      "metadata": {
        "id": "JZJuvoRhxQYI"
      },
      "execution_count": null,
      "outputs": []
    },
    {
      "cell_type": "code",
      "source": [
        "q = Queue(3)\n",
        "q.enqueue(10)\n",
        "q.enqueue(20)\n",
        "q.enqueue(30)\n",
        "\n",
        "print(q.dequeue())  # 10\n",
        "print(q.dequeue())  # 20\n",
        "\n",
        "q.enqueue(40)  # Works even though we've dequeued items\n",
        "print(q.dequeue())  # 30\n",
        "print(q.dequeue())  # 40"
      ],
      "metadata": {
        "colab": {
          "base_uri": "https://localhost:8080/"
        },
        "id": "jRKlWZIvxirG",
        "outputId": "e96e6e6a-7350-43c9-b2ac-d1288b290ec8"
      },
      "execution_count": null,
      "outputs": [
        {
          "output_type": "stream",
          "name": "stdout",
          "text": [
            "10\n",
            "20\n",
            "30\n",
            "40\n"
          ]
        }
      ]
    },
    {
      "cell_type": "markdown",
      "source": [
        "## Evaluate postfix expression using stack"
      ],
      "metadata": {
        "id": "2mHLhBWixnA4"
      }
    },
    {
      "cell_type": "code",
      "source": [
        "def evaluate_postfix(expression):\n",
        "    stack = []\n",
        "\n",
        "    for token in expression.split():\n",
        "        if token in '+-*/^':  # Operator encountered\n",
        "            # Pop twice (first pop gives right operand, second gives left)\n",
        "            right = stack.pop()\n",
        "            left = stack.pop()\n",
        "\n",
        "            # Perform the operation\n",
        "            if token == '+':\n",
        "                result = left + right\n",
        "            elif token == '-':\n",
        "                result = left - right\n",
        "            elif token == '*':\n",
        "                result = left * right\n",
        "            elif token == '/':\n",
        "                result = left / right\n",
        "            elif token == '^':\n",
        "                result = left ** right\n",
        "\n",
        "            # Push result back to stack\n",
        "            stack.append(result)\n",
        "        else:  # Operand encountered\n",
        "            # Push to stack (convert to number first)\n",
        "            stack.append(float(token) if '.' in token else int(token))\n",
        "\n",
        "    # Final result should be the only element in stack\n",
        "    return stack[0]\n",
        "\n",
        "# Example usage\n",
        "print(evaluate_postfix(\"3 4 +\"))      # Output: 7\n",
        "print(evaluate_postfix(\"5 2 3 * +\"))  # Output: 11\n",
        "print(evaluate_postfix(\"10 5 / 2 *\")) # Output: 4.0\n",
        "print(evaluate_postfix(\"2 3 ^\"))      # Output: 8"
      ],
      "metadata": {
        "colab": {
          "base_uri": "https://localhost:8080/"
        },
        "id": "dCV_vYvJxlH8",
        "outputId": "aaccfa0a-3461-45d4-b938-b819f8a04395"
      },
      "execution_count": null,
      "outputs": [
        {
          "output_type": "stream",
          "name": "stdout",
          "text": [
            "7\n",
            "11\n",
            "4.0\n",
            "8\n"
          ]
        }
      ]
    },
    {
      "cell_type": "code",
      "source": [],
      "metadata": {
        "id": "sJP08uTlx37f"
      },
      "execution_count": null,
      "outputs": []
    }
  ]
}