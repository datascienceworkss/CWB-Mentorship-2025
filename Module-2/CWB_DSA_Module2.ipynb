{
  "nbformat": 4,
  "nbformat_minor": 0,
  "metadata": {
    "colab": {
      "provenance": []
    },
    "kernelspec": {
      "name": "python3",
      "display_name": "Python 3"
    },
    "language_info": {
      "name": "python"
    }
  },
  "cells": [
    {
      "cell_type": "markdown",
      "source": [
        "**Define the Node Class**"
      ],
      "metadata": {
        "id": "XCjV8ZZT-WFA"
      }
    },
    {
      "cell_type": "code",
      "execution_count": 12,
      "metadata": {
        "id": "CupiX7no-GLy"
      },
      "outputs": [],
      "source": [
        "class Node:\n",
        "    def __init__(self, data):\n",
        "        self.data = data  # Store the data\n",
        "        self.next = None  # Pointer to the next node\n"
      ]
    },
    {
      "cell_type": "markdown",
      "source": [
        "Input : 10->20->30->40, Output :10 20 30 40"
      ],
      "metadata": {
        "id": "hhc1d57SKlAf"
      }
    },
    {
      "cell_type": "markdown",
      "source": [
        "**Python Program to Print All Node Data in a Linked List**"
      ],
      "metadata": {
        "id": "9kKol00U-eFg"
      }
    },
    {
      "cell_type": "code",
      "source": [
        "# Define the Node class\n",
        "class Node:\n",
        "    def __init__(self, data):\n",
        "        self.data = data  # Store data\n",
        "        self.next = None  # Pointer to next node\n",
        "\n",
        "# Define the LinkedList class\n",
        "class LinkedList:\n",
        "    def __init__(self):\n",
        "        self.head = None  # Head (start) of the list\n",
        "\n",
        "    # Method to append a node to the end\n",
        "    def append(self, data):\n",
        "        new_node = Node(data)\n",
        "        if self.head is None:  # If list is empty\n",
        "            self.head = new_node\n",
        "        else:\n",
        "            current = self.head\n",
        "            while current.next:  # Traverse to the end\n",
        "                current = current.next\n",
        "            current.next = new_node\n",
        "\n",
        "    # Method to print all node data\n",
        "    def print_all_nodes(self):\n",
        "        current = self.head\n",
        "        while current:\n",
        "            print(current.data)\n",
        "            current = current.next\n",
        "\n",
        "# Example usage\n",
        "if __name__ == \"__main__\":\n",
        "    ll = LinkedList()\n",
        "\n",
        "    # Add some nodes\n",
        "    ll.append(10)\n",
        "    ll.append(20)\n",
        "    ll.append(30)\n",
        "    ll.append(40)\n",
        "\n",
        "\n",
        "    # Print all node data\n",
        "    ll.print_all_nodes()\n"
      ],
      "metadata": {
        "colab": {
          "base_uri": "https://localhost:8080/"
        },
        "id": "qqEDvTuG-cmt",
        "outputId": "36b87061-4828-4c23-ca30-e143102d8045"
      },
      "execution_count": 14,
      "outputs": [
        {
          "output_type": "stream",
          "name": "stdout",
          "text": [
            "10\n",
            "20\n",
            "30\n",
            "40\n"
          ]
        }
      ]
    },
    {
      "cell_type": "code",
      "source": [
        "#node.data, node.next"
      ],
      "metadata": {
        "id": "nQD4jv5zMTgB"
      },
      "execution_count": null,
      "outputs": []
    },
    {
      "cell_type": "markdown",
      "source": [
        "**Write a program to return the 2nd last node data in the linked list**"
      ],
      "metadata": {
        "id": "ys3fui7T-r9V"
      }
    },
    {
      "cell_type": "code",
      "source": [
        "class Node:\n",
        "    def __init__(self, data):\n",
        "        self.data = data\n",
        "        self.next = None\n",
        "\n",
        "    def __repr__(self):\n",
        "        return f\"Node(data={self.data})\"\n",
        "\n",
        "class LinkedList:\n",
        "    def __init__(self):\n",
        "        self.head = None\n",
        "\n",
        "    def append(self, data):\n",
        "        new_node = Node(data)\n",
        "        if not self.head:\n",
        "            self.head = new_node\n",
        "        else:\n",
        "            s = self.head\n",
        "            while s.next:\n",
        "                s = s.next\n",
        "            s.next = new_node\n",
        "\n",
        "    def get_second_last_node(self):\n",
        "        if self.head is None or self.head.next is None:\n",
        "            return None  # Less than 2 nodes\n",
        "        s = self.head\n",
        "        p = None\n",
        "        while s.next is not None:\n",
        "            p = s\n",
        "            s = s.next\n",
        "        return p  # Second last node\n",
        "\n",
        "# Example usage\n",
        "if __name__ == \"__main__\":\n",
        "    ll = LinkedList()\n",
        "    ll.append(10)\n",
        "    ll.append(20)\n",
        "    ll.append(30)\n",
        "    ll.append(40)\n",
        "\n",
        "    second_last_node = ll.get_second_last_node()\n",
        "    if second_last_node:\n",
        "        print(f\"Second last node data: {second_last_node.data}\")\n",
        "    else:\n",
        "        print(\"List has fewer than 2 nodes.\")\n"
      ],
      "metadata": {
        "colab": {
          "base_uri": "https://localhost:8080/"
        },
        "id": "myqS70AE-oyT",
        "outputId": "47fab3bb-42b3-4b71-84d7-e58d9db7644f"
      },
      "execution_count": 15,
      "outputs": [
        {
          "output_type": "stream",
          "name": "stdout",
          "text": [
            "Second last node data: 30\n"
          ]
        }
      ]
    },
    {
      "cell_type": "markdown",
      "source": [
        "**Write a program to insert a node with data x before a node with data y in a singly linked list:**"
      ],
      "metadata": {
        "id": "ojA6V7zRAj00"
      }
    },
    {
      "cell_type": "code",
      "source": [
        "class Node:\n",
        "    def __init__(self, data):\n",
        "        self.data = data\n",
        "        self.next = None\n",
        "\n",
        "    def __repr__(self):\n",
        "        return f\"Node(data={self.data})\"\n",
        "\n",
        "class LinkedList:\n",
        "    def __init__(self):\n",
        "        self.head = None\n",
        "\n",
        "    # Append node at the end\n",
        "    def append(self, data):\n",
        "        new_node = Node(data)\n",
        "        if not self.head:\n",
        "            self.head = new_node\n",
        "        else:\n",
        "            current = self.head\n",
        "            while current.next:\n",
        "                current = current.next\n",
        "            current.next = new_node\n",
        "\n",
        "    # Display linked list\n",
        "    def display(self):\n",
        "        current = self.head\n",
        "        while current:\n",
        "            print(current.data, end=\" -> \")\n",
        "            current = current.next\n",
        "        print(\"None\")\n",
        "\n",
        "    # Insert a node with data x before the node with data y\n",
        "    def insert_before(self, x, y):\n",
        "        new_node = Node(x)\n",
        "\n",
        "        # Case 1: Empty list\n",
        "        if not self.head:\n",
        "            print(\"List is empty.\")\n",
        "            return\n",
        "\n",
        "        # Case 2: y is at the head\n",
        "        if self.head.data == y:\n",
        "            new_node.next = self.head\n",
        "            self.head = new_node\n",
        "            return\n",
        "\n",
        "        # Case 3: y is somewhere else\n",
        "        prev = None\n",
        "        curr = self.head\n",
        "        ### Traverse the Linked List until you find the node with data y\n",
        "        while curr and curr.data != y:\n",
        "            prev = curr\n",
        "            curr = curr.next\n",
        "\n",
        "        if curr is None:\n",
        "            print(f\"Node with data {y} not found.\")\n",
        "            return\n",
        "\n",
        "        prev.next = new_node\n",
        "        new_node.next = curr\n",
        "\n",
        "# Example usage\n",
        "if __name__ == \"__main__\":\n",
        "    ll = LinkedList()\n",
        "    ll.append(10)\n",
        "    ll.append(20)\n",
        "    ll.append(30)\n",
        "\n",
        "    print(\"Original list:\")\n",
        "    ll.display()\n",
        "\n",
        "    x = 25\n",
        "    y = 30\n",
        "    print(f\"\\nInserting {x} before {y}:\")\n",
        "    ll.insert_before(x, y)\n",
        "\n",
        "    print(\"Updated list:\")\n",
        "    ll.display()\n"
      ],
      "metadata": {
        "colab": {
          "base_uri": "https://localhost:8080/"
        },
        "id": "alBIzZ_P_BB-",
        "outputId": "74db140d-c9b9-4985-b24b-b895343d1cc9"
      },
      "execution_count": 16,
      "outputs": [
        {
          "output_type": "stream",
          "name": "stdout",
          "text": [
            "Original list:\n",
            "10 -> 20 -> 30 -> None\n",
            "\n",
            "Inserting 25 before 30:\n",
            "Updated list:\n",
            "10 -> 20 -> 25 -> 30 -> None\n"
          ]
        }
      ]
    },
    {
      "cell_type": "markdown",
      "source": [
        "## Homework : Write a Program to delete a node at the end of a given Linked list"
      ],
      "metadata": {
        "id": "TW6qjSRVBr8u"
      }
    },
    {
      "cell_type": "markdown",
      "source": [
        "##Competitive Programming"
      ],
      "metadata": {
        "id": "9d3Qw2hXCOvK"
      }
    },
    {
      "cell_type": "markdown",
      "source": [
        "You are given an integer array nums. You are initially positioned at the array's first index, and each element in the array represents your maximum jump length at that position.\n",
        "\n",
        "Return true if you can reach the last index, or false otherwise.\n",
        "\n",
        "\n",
        "Example 1:\n",
        "\n",
        "Input: nums = [2,3,1,1,4]\n",
        "Output: true\n",
        "Explanation: Jump 1 step from index 0 to 1, then 3 steps to the last index.\n",
        "Example 2:\n",
        "\n",
        "Input: nums = [3,2,1,0,4]\n",
        "Output: false\n",
        "Explanation: You will always arrive at index 3 no matter what. Its maximum jump length is 0, which makes it impossible to reach the last index.\n"
      ],
      "metadata": {
        "id": "JzYnUGyuCdj8"
      }
    },
    {
      "cell_type": "code",
      "source": [
        "from typing import List\n",
        "\n",
        "def canJump(nums: List[int]) -> bool:\n",
        "    n = len(nums)\n",
        "    if n == 1:\n",
        "        return True  # Only one element, already at the end\n",
        "\n",
        "    if nums[0] == 0:\n",
        "        return False  # Can't move anywhere from the start\n",
        "\n",
        "    for i in range(1, n):\n",
        "        nums[i] = max(nums[i - 1] - 1, nums[i])\n",
        "\n",
        "        if nums[i] == 0 and i != n - 1:\n",
        "            return False  # Stuck before last index\n",
        "\n",
        "        if i == n - 1:\n",
        "            return True  # Reached last index\n",
        "\n",
        "    return False"
      ],
      "metadata": {
        "id": "-NLeX0llAx5Z"
      },
      "execution_count": 17,
      "outputs": []
    },
    {
      "cell_type": "code",
      "source": [
        "print(canJump([2,3,1,1,4]))  # True\n",
        "print(canJump([3,2,1,0,4]))  # False"
      ],
      "metadata": {
        "colab": {
          "base_uri": "https://localhost:8080/"
        },
        "id": "KmsF7lJWC-jt",
        "outputId": "7e2db36d-bb56-4b43-b460-cbb494b82f8c"
      },
      "execution_count": 18,
      "outputs": [
        {
          "output_type": "stream",
          "name": "stdout",
          "text": [
            "True\n",
            "False\n"
          ]
        }
      ]
    },
    {
      "cell_type": "markdown",
      "source": [
        "**Intuition:**\n",
        "Imagine you’re running along stepping stones where each stone tells you how far you can jump ahead.\n",
        "\n",
        "You come from stone i-1 with some leftover jump power.\n",
        "\n",
        "You arrive at stone i which might have its own jump power.\n",
        "\n",
        "At stone i, you want to know your best jump power available to keep going.\n",
        "\n",
        "Summary\n",
        "max(nums[i - 1] - 1, nums[i]) = best jump you can have at stone i considering:\n",
        "\n",
        "leftover jumps from previous stones, or\n",
        "\n",
        "jump power at this stone itself.\n",
        "\n",
        "#############################################################################\n",
        "\n",
        "nums[i-1] is how far you could jump from the previous position.\n",
        "\n",
        "Subtracting 1 means you've moved one step forward, so your remaining jump capability reduces by one.\n",
        "\n",
        "nums[i] is the original jump length at position i.\n",
        "\n",
        "So you update nums[i] with the maximum of:\n",
        "\n",
        "leftover jumps from the previous position (nums[i - 1] - 1), or\n",
        "\n",
        "the original jump length at i (nums[i])."
      ],
      "metadata": {
        "id": "6NwloCBaDdg3"
      }
    },
    {
      "cell_type": "code",
      "source": [],
      "metadata": {
        "id": "b8gi1GiHDD4r"
      },
      "execution_count": null,
      "outputs": []
    }
  ]
}